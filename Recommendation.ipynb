{
  "nbformat": 4,
  "nbformat_minor": 0,
  "metadata": {
    "colab": {
      "provenance": []
    },
    "kernelspec": {
      "name": "python3",
      "display_name": "Python 3"
    },
    "language_info": {
      "name": "python"
    }
  },
  "cells": [
    {
      "cell_type": "code",
      "execution_count": 1,
      "metadata": {
        "id": "zwjAhkHs5s_2"
      },
      "outputs": [],
      "source": [
        "import numpy as np\n",
        "import pandas as pd"
      ]
    },
    {
      "cell_type": "code",
      "source": [
        "# 1. Simulate a knowledge-based recommendation system for laptops\n",
        "laptops = ['Laptop1', 'Laptop2', 'Laptop3', 'Laptop4', 'Laptop5']\n",
        "features = {\n",
        "    'Laptop1': {'brand': 'BrandA', 'battery_life': 10, 'price': 500},\n",
        "    'Laptop2': {'brand': 'BrandB', 'battery_life': 8, 'price': 700},\n",
        "    'Laptop3': {'brand': 'BrandC', 'battery_life': 12, 'price': 600},\n",
        "    'Laptop4': {'brand': 'BrandA', 'battery_life': 6, 'price': 400},\n",
        "    'Laptop5': {'brand': 'BrandB', 'battery_life': 9, 'price': 650},\n",
        "}"
      ],
      "metadata": {
        "id": "OkjnCJCy5xMM"
      },
      "execution_count": 2,
      "outputs": []
    },
    {
      "cell_type": "code",
      "source": [
        "# 2. User preferences (input)\n",
        "user_preferences = {\n",
        "    'brand': 'BrandA',\n",
        "    'min_battery_life': 8,\n",
        "    'max_price': 600\n",
        "}\n",
        ""
      ],
      "metadata": {
        "id": "UVQdoWsR5xQ1"
      },
      "execution_count": 3,
      "outputs": []
    },
    {
      "cell_type": "code",
      "source": [
        "# 3. Knowledge-based recommendation logic (filter laptops based on preferences)\n",
        "def recommend_laptops(user_preferences, features):\n",
        "    recommended_laptops = []\n",
        "    for laptop, specs in features.items():\n",
        "        if (specs['brand'] == user_preferences['brand'] and\n",
        "            specs['battery_life'] >= user_preferences['min_battery_life'] and\n",
        "            specs['price'] <= user_preferences['max_price']):\n",
        "            recommended_laptops.append(laptop)\n",
        "    return recommended_laptops\n",
        ""
      ],
      "metadata": {
        "id": "GEW7PRah5xUk"
      },
      "execution_count": 4,
      "outputs": []
    },
    {
      "cell_type": "code",
      "source": [
        "# 4. Get recommendations\n",
        "recommended_laptops = recommend_laptops(user_preferences, features)\n",
        "print(f\"Recommended Laptops based on your preferences: {recommended_laptops}\")"
      ],
      "metadata": {
        "colab": {
          "base_uri": "https://localhost:8080/"
        },
        "id": "un58qZIb5xal",
        "outputId": "afd6898d-89aa-4034-c0a4-a2b73136f645"
      },
      "execution_count": 5,
      "outputs": [
        {
          "output_type": "stream",
          "name": "stdout",
          "text": [
            "Recommended Laptops based on your preferences: ['Laptop1']\n"
          ]
        }
      ]
    }
  ]
}